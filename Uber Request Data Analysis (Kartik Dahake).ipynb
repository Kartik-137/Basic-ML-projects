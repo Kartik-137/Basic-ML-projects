{
 "cells": [
  {
   "cell_type": "markdown",
   "id": "4c191294",
   "metadata": {},
   "source": [
    "# Exploratory Data Analysis on Uber Request Data\n",
    "\n",
    "### Problem Statement:\n",
    "- The given dataset consists of requests made\n",
    "by users from Airport, City and whether the\n",
    "demand was fulfilled.\n",
    "- Problem observed in this Dataset is of\n",
    "cancellation of requests and unavailability of\n",
    "cabs at the given pickup points in the dataset.\n",
    "- This issue affects the revenue of Uber and in\n",
    "turn impacts the growth of the company.\n",
    "\n",
    "### Source of the dataset: https://www.kaggle.com/datasets/anupammajhi/uber-request-data\n"
   ]
  },
  {
   "cell_type": "code",
   "execution_count": 1,
   "id": "49487b8c",
   "metadata": {},
   "outputs": [],
   "source": [
    "#importing necessary libraries\n",
    "import numpy as np\n",
    "import pandas as pd \n",
    "import matplotlib.pyplot as plt\n",
    "import seaborn as sns"
   ]
  },
  {
   "cell_type": "code",
   "execution_count": 2,
   "id": "c2fbfc1c",
   "metadata": {},
   "outputs": [],
   "source": [
    "#reading the file\n",
    "uber_df=pd.read_excel('Uber Request Data(copy).xlsx')"
   ]
  },
  {
   "cell_type": "code",
   "execution_count": 3,
   "id": "326acea2",
   "metadata": {
    "scrolled": false
   },
   "outputs": [
    {
     "data": {
      "text/html": [
       "<div>\n",
       "<style scoped>\n",
       "    .dataframe tbody tr th:only-of-type {\n",
       "        vertical-align: middle;\n",
       "    }\n",
       "\n",
       "    .dataframe tbody tr th {\n",
       "        vertical-align: top;\n",
       "    }\n",
       "\n",
       "    .dataframe thead th {\n",
       "        text-align: right;\n",
       "    }\n",
       "</style>\n",
       "<table border=\"1\" class=\"dataframe\">\n",
       "  <thead>\n",
       "    <tr style=\"text-align: right;\">\n",
       "      <th></th>\n",
       "      <th>Request id</th>\n",
       "      <th>Pickup point</th>\n",
       "      <th>Driver id</th>\n",
       "      <th>Status</th>\n",
       "      <th>Request timestamp</th>\n",
       "      <th>Drop timestamp</th>\n",
       "    </tr>\n",
       "  </thead>\n",
       "  <tbody>\n",
       "    <tr>\n",
       "      <th>2016</th>\n",
       "      <td>1890</td>\n",
       "      <td>City</td>\n",
       "      <td>212.0</td>\n",
       "      <td>Trip Completed</td>\n",
       "      <td>2016-07-12 10:08:00</td>\n",
       "      <td>2016-07-12 11:16:00</td>\n",
       "    </tr>\n",
       "    <tr>\n",
       "      <th>4997</th>\n",
       "      <td>2485</td>\n",
       "      <td>Airport</td>\n",
       "      <td>NaN</td>\n",
       "      <td>No Cars Available</td>\n",
       "      <td>2016-07-12 20:50:00</td>\n",
       "      <td>NaT</td>\n",
       "    </tr>\n",
       "    <tr>\n",
       "      <th>142</th>\n",
       "      <td>1167</td>\n",
       "      <td>Airport</td>\n",
       "      <td>16.0</td>\n",
       "      <td>Trip Completed</td>\n",
       "      <td>2016-07-11 20:50:00</td>\n",
       "      <td>2016-07-11 21:52:00</td>\n",
       "    </tr>\n",
       "    <tr>\n",
       "      <th>3913</th>\n",
       "      <td>6608</td>\n",
       "      <td>Airport</td>\n",
       "      <td>259.0</td>\n",
       "      <td>Cancelled</td>\n",
       "      <td>2016-07-15 21:46:00</td>\n",
       "      <td>NaT</td>\n",
       "    </tr>\n",
       "    <tr>\n",
       "      <th>5054</th>\n",
       "      <td>2583</td>\n",
       "      <td>Airport</td>\n",
       "      <td>NaN</td>\n",
       "      <td>No Cars Available</td>\n",
       "      <td>2016-07-12 21:41:00</td>\n",
       "      <td>NaT</td>\n",
       "    </tr>\n",
       "  </tbody>\n",
       "</table>\n",
       "</div>"
      ],
      "text/plain": [
       "      Request id Pickup point  Driver id             Status  \\\n",
       "2016        1890         City      212.0     Trip Completed   \n",
       "4997        2485      Airport        NaN  No Cars Available   \n",
       "142         1167      Airport       16.0     Trip Completed   \n",
       "3913        6608      Airport      259.0          Cancelled   \n",
       "5054        2583      Airport        NaN  No Cars Available   \n",
       "\n",
       "       Request timestamp      Drop timestamp  \n",
       "2016 2016-07-12 10:08:00 2016-07-12 11:16:00  \n",
       "4997 2016-07-12 20:50:00                 NaT  \n",
       "142  2016-07-11 20:50:00 2016-07-11 21:52:00  \n",
       "3913 2016-07-15 21:46:00                 NaT  \n",
       "5054 2016-07-12 21:41:00                 NaT  "
      ]
     },
     "execution_count": 3,
     "metadata": {},
     "output_type": "execute_result"
    }
   ],
   "source": [
    "uber_df.sample(5)"
   ]
  },
  {
   "cell_type": "code",
   "execution_count": 4,
   "id": "44e77017",
   "metadata": {},
   "outputs": [
    {
     "data": {
      "text/plain": [
       "(6745, 6)"
      ]
     },
     "execution_count": 4,
     "metadata": {},
     "output_type": "execute_result"
    }
   ],
   "source": [
    "uber_df.shape"
   ]
  },
  {
   "cell_type": "code",
   "execution_count": 5,
   "id": "376674fb",
   "metadata": {},
   "outputs": [
    {
     "data": {
      "text/plain": [
       "0"
      ]
     },
     "execution_count": 5,
     "metadata": {},
     "output_type": "execute_result"
    }
   ],
   "source": [
    "#check duplicate rows\n",
    "uber_df.duplicated().sum() #no duplicate rows present"
   ]
  },
  {
   "cell_type": "code",
   "execution_count": 6,
   "id": "bef7277d",
   "metadata": {
    "scrolled": true
   },
   "outputs": [
    {
     "name": "stdout",
     "output_type": "stream",
     "text": [
      "<class 'pandas.core.frame.DataFrame'>\n",
      "RangeIndex: 6745 entries, 0 to 6744\n",
      "Data columns (total 6 columns):\n",
      " #   Column             Non-Null Count  Dtype         \n",
      "---  ------             --------------  -----         \n",
      " 0   Request id         6745 non-null   int64         \n",
      " 1   Pickup point       6745 non-null   object        \n",
      " 2   Driver id          4095 non-null   float64       \n",
      " 3   Status             6745 non-null   object        \n",
      " 4   Request timestamp  6745 non-null   datetime64[ns]\n",
      " 5   Drop timestamp     2831 non-null   datetime64[ns]\n",
      "dtypes: datetime64[ns](2), float64(1), int64(1), object(2)\n",
      "memory usage: 316.3+ KB\n"
     ]
    }
   ],
   "source": [
    "uber_df.info()"
   ]
  },
  {
   "cell_type": "markdown",
   "id": "9d0265a1",
   "metadata": {},
   "source": [
    "#### percentage of missing null values"
   ]
  },
  {
   "cell_type": "code",
   "execution_count": 7,
   "id": "7da22735",
   "metadata": {},
   "outputs": [
    {
     "data": {
      "text/plain": [
       "Request id            0.000000\n",
       "Pickup point          0.000000\n",
       "Driver id            39.288362\n",
       "Status                0.000000\n",
       "Request timestamp     0.000000\n",
       "Drop timestamp       58.028169\n",
       "dtype: float64"
      ]
     },
     "execution_count": 7,
     "metadata": {},
     "output_type": "execute_result"
    }
   ],
   "source": [
    "perc_misnull=uber_df.isnull().sum()*100/len(uber_df)\n",
    "perc_misnull\n"
   ]
  },
  {
   "cell_type": "markdown",
   "id": "f5fcff40",
   "metadata": {},
   "source": [
    "#### Meaning of null entries in the dataset."
   ]
  },
  {
   "cell_type": "code",
   "execution_count": 8,
   "id": "bc591728",
   "metadata": {
    "scrolled": true
   },
   "outputs": [
    {
     "name": "stdout",
     "output_type": "stream",
     "text": [
      "\u001b[1mCross checking Status of corresponding null values in Driver id column\u001b[0m\n",
      "\n",
      "Trip Completed       41.971831\n",
      "No Cars Available    39.288362\n",
      "Cancelled            18.739807\n",
      "Name: Status, dtype: float64\n",
      "\n",
      "Observation for null values in \u001b[1mDriver id\u001b[0m column:\n",
      "\n",
      "'No Cars Available' status contributes to 39.288362% \n",
      "which is same as the percentage of null values in Driver id,\n",
      "so these null values needs no treatment as this status \n",
      "was given because no Driver was present.\n",
      "\n",
      "Observation for null values in \u001b[1mDrop timestamp\u001b[0m column:\n",
      "\n",
      "Percentage of 'No Cars available' combined 'Cancelled' status gives \n",
      "58.028169% which is same as the null entries in Drop timestamp column. \n",
      "Hence, these null values in Drop timestamp column indicates \n",
      "no driver was present and the trip was cancelled respectively\n"
     ]
    }
   ],
   "source": [
    "#Observation on Null entries\n",
    "print('\\033[1mCross checking Status of corresponding null values in Driver id column\\033[0m\\n')\n",
    "n1=uber_df.loc[:,'Status']\n",
    "print(n1.value_counts()*100/len(uber_df))\n",
    "print(\"\"\"\\nObservation for null values in \\033[1mDriver id\\033[0m column:\n",
    "\n",
    "'No Cars Available' status contributes to 39.288362% \n",
    "which is same as the percentage of null values in Driver id,\n",
    "so these null values needs no treatment as this status \n",
    "was given because no Driver was present.\n",
    "\n",
    "Observation for null values in \\033[1mDrop timestamp\\033[0m column:\n",
    "\n",
    "Percentage of 'No Cars available' combined 'Cancelled' status gives \n",
    "58.028169% which is same as the null entries in Drop timestamp column. \n",
    "Hence, these null values in Drop timestamp column indicates \n",
    "no driver was present and the trip was cancelled respectively\"\"\")"
   ]
  },
  {
   "cell_type": "code",
   "execution_count": 9,
   "id": "24b2fb60",
   "metadata": {},
   "outputs": [
    {
     "name": "stdout",
     "output_type": "stream",
     "text": [
      "Unique values in Status: ['Trip Completed' 'Cancelled' 'No Cars Available']\n",
      "\n",
      "Unique values in Pickup point: ['Airport' 'City']\n",
      "\n",
      "Unique values(day) in Request timestamp: [11 12 13 14 15]\n",
      "\n",
      "Unique values(month) in Request timestamp: [7]\n",
      "\n",
      "Unique values(year) in Request timestamp: [2016]\n",
      "\n",
      "So, the data is of 5 days (i.e 11,12,13,14,15) from July 2016\n"
     ]
    }
   ],
   "source": [
    "#Observe unique values in each column\n",
    "print('Unique values in Status:',uber_df['Status'].unique())\n",
    "print('\\nUnique values in Pickup point:',uber_df['Pickup point'].unique())\n",
    "print('\\nUnique values(day) in Request timestamp:',uber_df['Request timestamp'].dt.day.unique())\n",
    "print('\\nUnique values(month) in Request timestamp:',uber_df['Request timestamp'].dt.month.unique())\n",
    "print('\\nUnique values(year) in Request timestamp:',uber_df['Request timestamp'].dt.year.unique())\n",
    "print('\\nSo, the data is of 5 days (i.e 11,12,13,14,15) from July 2016')"
   ]
  },
  {
   "cell_type": "markdown",
   "id": "956b93b3",
   "metadata": {},
   "source": [
    "#### Adding new columns in dataset"
   ]
  },
  {
   "cell_type": "code",
   "execution_count": 10,
   "id": "7e399c05",
   "metadata": {},
   "outputs": [],
   "source": [
    "#add new columns\n",
    "uber_df['Day_of_trip']=uber_df['Request timestamp'].dt.day\n",
    "uber_df['Request_hr']=uber_df['Request timestamp'].dt.hour\n",
    "uber_df['Drop_hr']=uber_df['Drop timestamp'].dt.hour\n",
    "\n",
    "def name_of_session(hr):\n",
    "    if(hr >= 0 and hr <= 6):\n",
    "        return 'Early Morning'\n",
    "    elif(hr >= 7 and hr < 12):\n",
    "        return 'Morning'\n",
    "    elif(hr >= 12 and hr < 16):\n",
    "        return 'Afternoon'\n",
    "    elif(hr >= 16 and hr <= 19):\n",
    "        return 'Evening'\n",
    "    elif(hr >= 20 and hr < 24):\n",
    "        return 'Night'\n",
    "\n",
    "uber_df['Session']=uber_df['Request_hr'].apply(lambda hr : name_of_session(hr))"
   ]
  },
  {
   "cell_type": "markdown",
   "id": "b345ded0",
   "metadata": {},
   "source": [
    "#### New dataset"
   ]
  },
  {
   "cell_type": "code",
   "execution_count": 11,
   "id": "5c1e5362",
   "metadata": {
    "scrolled": true
   },
   "outputs": [
    {
     "data": {
      "text/html": [
       "<div>\n",
       "<style scoped>\n",
       "    .dataframe tbody tr th:only-of-type {\n",
       "        vertical-align: middle;\n",
       "    }\n",
       "\n",
       "    .dataframe tbody tr th {\n",
       "        vertical-align: top;\n",
       "    }\n",
       "\n",
       "    .dataframe thead th {\n",
       "        text-align: right;\n",
       "    }\n",
       "</style>\n",
       "<table border=\"1\" class=\"dataframe\">\n",
       "  <thead>\n",
       "    <tr style=\"text-align: right;\">\n",
       "      <th></th>\n",
       "      <th>Request id</th>\n",
       "      <th>Pickup point</th>\n",
       "      <th>Driver id</th>\n",
       "      <th>Status</th>\n",
       "      <th>Request timestamp</th>\n",
       "      <th>Drop timestamp</th>\n",
       "      <th>Day_of_trip</th>\n",
       "      <th>Request_hr</th>\n",
       "      <th>Drop_hr</th>\n",
       "      <th>Session</th>\n",
       "    </tr>\n",
       "  </thead>\n",
       "  <tbody>\n",
       "    <tr>\n",
       "      <th>2183</th>\n",
       "      <td>6692</td>\n",
       "      <td>City</td>\n",
       "      <td>228.0</td>\n",
       "      <td>Trip Completed</td>\n",
       "      <td>2016-07-15 22:47:00</td>\n",
       "      <td>2016-07-15 23:58:00</td>\n",
       "      <td>15</td>\n",
       "      <td>22</td>\n",
       "      <td>23.0</td>\n",
       "      <td>Night</td>\n",
       "    </tr>\n",
       "    <tr>\n",
       "      <th>3690</th>\n",
       "      <td>1541</td>\n",
       "      <td>City</td>\n",
       "      <td>205.0</td>\n",
       "      <td>Cancelled</td>\n",
       "      <td>2016-07-12 06:04:00</td>\n",
       "      <td>NaT</td>\n",
       "      <td>12</td>\n",
       "      <td>6</td>\n",
       "      <td>NaN</td>\n",
       "      <td>Early Morning</td>\n",
       "    </tr>\n",
       "    <tr>\n",
       "      <th>1831</th>\n",
       "      <td>1910</td>\n",
       "      <td>Airport</td>\n",
       "      <td>193.0</td>\n",
       "      <td>Trip Completed</td>\n",
       "      <td>2016-07-12 10:41:00</td>\n",
       "      <td>2016-07-12 11:27:00</td>\n",
       "      <td>12</td>\n",
       "      <td>10</td>\n",
       "      <td>11.0</td>\n",
       "      <td>Morning</td>\n",
       "    </tr>\n",
       "    <tr>\n",
       "      <th>862</th>\n",
       "      <td>746</td>\n",
       "      <td>Airport</td>\n",
       "      <td>88.0</td>\n",
       "      <td>Trip Completed</td>\n",
       "      <td>2016-07-11 15:47:00</td>\n",
       "      <td>2016-07-11 16:34:00</td>\n",
       "      <td>11</td>\n",
       "      <td>15</td>\n",
       "      <td>16.0</td>\n",
       "      <td>Afternoon</td>\n",
       "    </tr>\n",
       "    <tr>\n",
       "      <th>6630</th>\n",
       "      <td>6520</td>\n",
       "      <td>Airport</td>\n",
       "      <td>NaN</td>\n",
       "      <td>No Cars Available</td>\n",
       "      <td>2016-07-15 20:51:00</td>\n",
       "      <td>NaT</td>\n",
       "      <td>15</td>\n",
       "      <td>20</td>\n",
       "      <td>NaN</td>\n",
       "      <td>Night</td>\n",
       "    </tr>\n",
       "  </tbody>\n",
       "</table>\n",
       "</div>"
      ],
      "text/plain": [
       "      Request id Pickup point  Driver id             Status  \\\n",
       "2183        6692         City      228.0     Trip Completed   \n",
       "3690        1541         City      205.0          Cancelled   \n",
       "1831        1910      Airport      193.0     Trip Completed   \n",
       "862          746      Airport       88.0     Trip Completed   \n",
       "6630        6520      Airport        NaN  No Cars Available   \n",
       "\n",
       "       Request timestamp      Drop timestamp  Day_of_trip  Request_hr  \\\n",
       "2183 2016-07-15 22:47:00 2016-07-15 23:58:00           15          22   \n",
       "3690 2016-07-12 06:04:00                 NaT           12           6   \n",
       "1831 2016-07-12 10:41:00 2016-07-12 11:27:00           12          10   \n",
       "862  2016-07-11 15:47:00 2016-07-11 16:34:00           11          15   \n",
       "6630 2016-07-15 20:51:00                 NaT           15          20   \n",
       "\n",
       "      Drop_hr        Session  \n",
       "2183     23.0          Night  \n",
       "3690      NaN  Early Morning  \n",
       "1831     11.0        Morning  \n",
       "862      16.0      Afternoon  \n",
       "6630      NaN          Night  "
      ]
     },
     "execution_count": 11,
     "metadata": {},
     "output_type": "execute_result"
    }
   ],
   "source": [
    "#new Uber DataFrame\n",
    "uber_df.sample(5)"
   ]
  },
  {
   "cell_type": "markdown",
   "id": "0eef9fb0",
   "metadata": {},
   "source": [
    "### Univariate analysis "
   ]
  },
  {
   "cell_type": "code",
   "execution_count": 12,
   "id": "34b136ea",
   "metadata": {
    "scrolled": false
   },
   "outputs": [
    {
     "data": {
      "image/png": "[encoded data removed]",
      "text/plain": [
       "<Figure size 432x288 with 1 Axes>"
      ]
     },
     "metadata": {},
     "output_type": "display_data"
    }
   ],
   "source": [
    "#Pickup point\n",
    "uber_df['Pickup point'].value_counts().plot.pie(colors=['violet','deepskyblue'],\n",
    "                                                autopct='%1.2f%%',shadow=True)\n",
    "plt.show()"
   ]
  },
  {
   "cell_type": "markdown",
   "id": "b35fa362",
   "metadata": {},
   "source": [
    "#### Analysis on Pickup point:\n",
    "- The pickup points in this data are airport and city.\n",
    "- From the pie chart we can infer that:\n",
    "    1. Number of requests made are slightly more in city \n",
    "than it is at the airport."
   ]
  },
  {
   "cell_type": "code",
   "execution_count": 13,
   "id": "389c9133",
   "metadata": {
    "scrolled": true
   },
   "outputs": [
    {
     "data": {
      "image/png": "[encoded data removed]",
      "text/plain": [
       "<Figure size 432x288 with 1 Axes>"
      ]
     },
     "metadata": {},
     "output_type": "display_data"
    }
   ],
   "source": [
    "#Status\n",
    "uber_df['Status'].value_counts().plot.pie(colors=['lime','lightgrey','orangered'],\n",
    "                                                autopct='%1.2f%%',shadow=True)\n",
    "plt.show()"
   ]
  },
  {
   "cell_type": "markdown",
   "id": "be20c2f8",
   "metadata": {},
   "source": [
    "#### Analysis on Status of request:\n",
    "- The Status of requests are categorized as trip \n",
    "completed, cancelled and no cars available.\n",
    "- From the pie chart we can infer that:\n",
    "    1. Not even 50% of requests made are completed\n",
    "    2. Car’s unavailability contribution is significant. "
   ]
  },
  {
   "cell_type": "code",
   "execution_count": 14,
   "id": "491c0f73",
   "metadata": {
    "scrolled": false
   },
   "outputs": [
    {
     "data": {
      "image/png": "[encoded data removed]",
      "text/plain": [
       "<Figure size 432x288 with 1 Axes>"
      ]
     },
     "metadata": {
      "needs_background": "light"
     },
     "output_type": "display_data"
    }
   ],
   "source": [
    "#Session\n",
    "plt.title('Number requests made according to Session of day',fontsize=15)\n",
    "uber_df['Session'].value_counts().plot.bar()\n",
    "plt.xticks(rotation=360)\n",
    "plt.xlabel('Session',labelpad=10,fontsize=13)\n",
    "plt.ylabel('Number of requests',labelpad=10,fontsize=13)\n",
    "plt.grid(True,lw=0.5,color='k')\n",
    "plt.show()"
   ]
  },
  {
   "cell_type": "markdown",
   "id": "07c5ad48",
   "metadata": {},
   "source": [
    "#### Analysis on Session at which requests were made:\n",
    "- Barplot shows amount of requests \n",
    "made according to the categorized sessions\n",
    "- Its observed that mostly cab requests are made \n",
    "in hours 0-11 and in 16-23"
   ]
  },
  {
   "cell_type": "markdown",
   "id": "991ee5e3",
   "metadata": {},
   "source": [
    "### Bivariate analysis \n"
   ]
  },
  {
   "cell_type": "markdown",
   "id": "4224dcbc",
   "metadata": {},
   "source": [
    "#### 1. pickup point, session and average time at which request is made"
   ]
  },
  {
   "cell_type": "code",
   "execution_count": 15,
   "id": "638b6c50",
   "metadata": {},
   "outputs": [
    {
     "data": {
      "text/html": [
       "<div>\n",
       "<style scoped>\n",
       "    .dataframe tbody tr th:only-of-type {\n",
       "        vertical-align: middle;\n",
       "    }\n",
       "\n",
       "    .dataframe tbody tr th {\n",
       "        vertical-align: top;\n",
       "    }\n",
       "\n",
       "    .dataframe thead tr th {\n",
       "        text-align: left;\n",
       "    }\n",
       "\n",
       "    .dataframe thead tr:last-of-type th {\n",
       "        text-align: right;\n",
       "    }\n",
       "</style>\n",
       "<table border=\"1\" class=\"dataframe\">\n",
       "  <thead>\n",
       "    <tr>\n",
       "      <th></th>\n",
       "      <th colspan=\"5\" halign=\"left\">Request_hr</th>\n",
       "    </tr>\n",
       "    <tr>\n",
       "      <th>Session</th>\n",
       "      <th>Afternoon</th>\n",
       "      <th>Early Morning</th>\n",
       "      <th>Evening</th>\n",
       "      <th>Morning</th>\n",
       "      <th>Night</th>\n",
       "    </tr>\n",
       "    <tr>\n",
       "      <th>Pickup point</th>\n",
       "      <th></th>\n",
       "      <th></th>\n",
       "      <th></th>\n",
       "      <th></th>\n",
       "      <th></th>\n",
       "    </tr>\n",
       "  </thead>\n",
       "  <tbody>\n",
       "    <tr>\n",
       "      <th>Airport</th>\n",
       "      <td>278</td>\n",
       "      <td>434</td>\n",
       "      <td>1140</td>\n",
       "      <td>384</td>\n",
       "      <td>1002</td>\n",
       "    </tr>\n",
       "    <tr>\n",
       "      <th>City</th>\n",
       "      <td>373</td>\n",
       "      <td>987</td>\n",
       "      <td>420</td>\n",
       "      <td>1290</td>\n",
       "      <td>437</td>\n",
       "    </tr>\n",
       "  </tbody>\n",
       "</table>\n",
       "</div>"
      ],
      "text/plain": [
       "             Request_hr                                    \n",
       "Session       Afternoon Early Morning Evening Morning Night\n",
       "Pickup point                                               \n",
       "Airport             278           434    1140     384  1002\n",
       "City                373           987     420    1290   437"
      ]
     },
     "execution_count": 15,
     "metadata": {},
     "output_type": "execute_result"
    }
   ],
   "source": [
    "# Creating pivot table.\n",
    "dt2=uber_df.pivot_table(uber_df,index='Pickup point',\n",
    "                        columns='Session',aggfunc={'Request_hr':np.size})\n",
    "dt2"
   ]
  },
  {
   "cell_type": "code",
   "execution_count": 16,
   "id": "2a8b0920",
   "metadata": {
    "scrolled": false
   },
   "outputs": [
    {
     "data": {
      "image/png": "[encoded data removed]",
      "text/plain": [
       "<Figure size 576x360 with 1 Axes>"
      ]
     },
     "metadata": {
      "needs_background": "light"
     },
     "output_type": "display_data"
    }
   ],
   "source": [
    "#Create groupby for above pivot table\n",
    "df_airport=uber_df[uber_df['Pickup point']=='Airport'].groupby(by='Session',axis=0)['Request_hr'].count()\n",
    "df_city=uber_df[uber_df['Pickup point']=='City'].groupby(by='Session',axis=0)['Request_hr'].count()\n",
    "\n",
    "#plotting above data\n",
    "plt.figure(figsize=(8,5))\n",
    "plt.plot(df_airport,label='Airport',marker='^',ms=10,ls='--',color='blue')\n",
    "plt.plot(df_city,label='City',marker='o',ms=5,color='deeppink')\n",
    "plt.title('Number of request Vs Session',fontsize=15)\n",
    "plt.grid(True,lw=0.7,color='k')\n",
    "plt.legend()\n",
    "plt.xlabel('Session',fontsize=13,labelpad=13)\n",
    "plt.ylabel('Number of Requests',fontsize=13,labelpad=13)\n",
    "plt.show()\n",
    "\n"
   ]
  },
  {
   "cell_type": "markdown",
   "id": "7bf4ce1e",
   "metadata": {},
   "source": [
    "#### 2. Boxplot for Request_hr Vs Session"
   ]
  },
  {
   "cell_type": "code",
   "execution_count": 17,
   "id": "b7c483ce",
   "metadata": {
    "scrolled": false
   },
   "outputs": [
    {
     "data": {
      "image/png": "[encoded data removed]",
      "text/plain": [
       "<Figure size 432x288 with 1 Axes>"
      ]
     },
     "metadata": {
      "needs_background": "light"
     },
     "output_type": "display_data"
    }
   ],
   "source": [
    "sns.boxplot(data=uber_df,x='Session',y='Request_hr',\n",
    "            hue='Pickup point',hue_order=['City','Airport'])\n",
    "plt.title('Boxplot of Sessions and Average request hour')\n",
    "plt.grid(True)"
   ]
  },
  {
   "cell_type": "markdown",
   "id": "e6f9c28c",
   "metadata": {},
   "source": [
    "### Multivariate analysis"
   ]
  },
  {
   "cell_type": "markdown",
   "id": "90209546",
   "metadata": {},
   "source": [
    "#### 1. Number of requests at pickup points and status of request"
   ]
  },
  {
   "cell_type": "code",
   "execution_count": 18,
   "id": "da2d1a09",
   "metadata": {
    "scrolled": false
   },
   "outputs": [
    {
     "data": {
      "image/png": "[encoded data removed]",
      "text/plain": [
       "<Figure size 720x576 with 1 Axes>"
      ]
     },
     "metadata": {
      "needs_background": "light"
     },
     "output_type": "display_data"
    }
   ],
   "source": [
    "#pickuppoint and Status\n",
    "dt1=pd.crosstab(uber_df['Pickup point'],uber_df['Status'])\n",
    "dt1.plot(kind='bar',figsize=(10,8))\n",
    "\n",
    "plt.title('Number of requests in Airport,City according to status',fontsize=15)\n",
    "plt.grid(True,lw=.5,color='k')\n",
    "plt.ylabel('Number of requests',labelpad=15,fontsize=12)\n",
    "plt.xlabel('Pickup point',labelpad=15,fontsize=12)\n",
    "plt.xticks(rotation=360)\n",
    "plt.show()"
   ]
  },
  {
   "cell_type": "markdown",
   "id": "f5dd3e98",
   "metadata": {},
   "source": [
    "#### Analysis on the number requests made at the pickup point and their status: \n",
    "1. Cancelled requests are large in city and very few at \n",
    "airport.\n",
    "2. The case of unavailability of cabs is much significant \n",
    "at airport than at city.\n",
    "3. Both airport and city trips combined contribute to \n",
    "about 42% completed trips."
   ]
  },
  {
   "cell_type": "markdown",
   "id": "4f9eb487",
   "metadata": {},
   "source": [
    "#### 2. Number of requests made according to sessions and status of the request (for AIRPORT)"
   ]
  },
  {
   "cell_type": "code",
   "execution_count": 19,
   "id": "26bb2e4e",
   "metadata": {
    "scrolled": false
   },
   "outputs": [
    {
     "data": {
      "image/png": "[encoded data removed]",
      "text/plain": [
       "<Figure size 864x576 with 1 Axes>"
      ]
     },
     "metadata": {
      "needs_background": "light"
     },
     "output_type": "display_data"
    }
   ],
   "source": [
    "#Number of requests made and their status according to Session in case of AIRPORT \n",
    "dt3=uber_df[uber_df['Pickup point']=='Airport'].groupby(by=['Status','Session'])['Request_hr'].count().reset_index()\n",
    "\n",
    "#Create bar plot\n",
    "plt.figure(figsize=(12,8))\n",
    "sns.barplot(data=dt3,x='Session',y='Request_hr',\n",
    "            hue='Status',palette='Set1')\n",
    "plt.grid(True,lw=0.7,color='k')\n",
    "plt.title('Number of Requests made in AIRPORT Vs Session',fontsize=15)\n",
    "plt.xlabel('Session',labelpad=13,fontsize=13)\n",
    "plt.ylabel('Number of requests made',labelpad=13,fontsize=13)\n",
    "plt.show()"
   ]
  },
  {
   "cell_type": "markdown",
   "id": "22466cd4",
   "metadata": {},
   "source": [
    "#### Analysis on number of requests made and status of request at airport during the working sessions:\n",
    "1. In case of cancellation, among the few requests \n",
    "cancelled mostly are denied during evening.\n",
    "2. In case of car unavailability, evening session \n",
    "contributes largest then comes night session.\n",
    "3. Fewer trips being completed from airport must be \n",
    "the effect car unavailability. "
   ]
  },
  {
   "cell_type": "markdown",
   "id": "bcfe956f",
   "metadata": {},
   "source": [
    "#### 3. Number of requests made according to sessions and status of the request (for CITY)"
   ]
  },
  {
   "cell_type": "code",
   "execution_count": 20,
   "id": "0083a253",
   "metadata": {
    "scrolled": false
   },
   "outputs": [
    {
     "data": {
      "image/png": "[encoded data removed]",
      "text/plain": [
       "<Figure size 720x432 with 1 Axes>"
      ]
     },
     "metadata": {
      "needs_background": "light"
     },
     "output_type": "display_data"
    }
   ],
   "source": [
    "#Number of requests made and their status according to Session in case of CITY \n",
    "dt3=uber_df[uber_df['Pickup point']=='City'].groupby(by=['Status','Session'])['Request_hr'].count().reset_index()\n",
    "\n",
    "#Create bar plot\n",
    "plt.figure(figsize=(10,6))\n",
    "sns.barplot(data=dt3,x='Session',y='Request_hr',\n",
    "            hue='Status',palette='Set1')\n",
    "plt.grid(True,lw=0.7,color='k')\n",
    "plt.title('Number of Requests made in CITY Vs Session',fontsize=15)\n",
    "plt.xlabel('Session',labelpad=13,fontsize=13)\n",
    "plt.ylabel('Number of requests made',labelpad=13,fontsize=13)\n",
    "plt.show()"
   ]
  },
  {
   "cell_type": "markdown",
   "id": "a9c66f28",
   "metadata": {},
   "source": [
    "#### Analysis on number of requests made and status of request in city during the working sessions:\n",
    "1. Cancellation of requests occurs in the time range of \n",
    "0-11.\n",
    "2. Car unavailability issue is less as compared to that in \n",
    "airport"
   ]
  },
  {
   "cell_type": "markdown",
   "id": "515c05d4",
   "metadata": {},
   "source": [
    "#### 4. Number of requests made during the 5 days and staus of the request (for CITY)"
   ]
  },
  {
   "cell_type": "code",
   "execution_count": 21,
   "id": "237011b4",
   "metadata": {
    "scrolled": false
   },
   "outputs": [
    {
     "data": {
      "text/html": [
       "<div>\n",
       "<style scoped>\n",
       "    .dataframe tbody tr th:only-of-type {\n",
       "        vertical-align: middle;\n",
       "    }\n",
       "\n",
       "    .dataframe tbody tr th {\n",
       "        vertical-align: top;\n",
       "    }\n",
       "\n",
       "    .dataframe thead th {\n",
       "        text-align: right;\n",
       "    }\n",
       "</style>\n",
       "<table border=\"1\" class=\"dataframe\">\n",
       "  <thead>\n",
       "    <tr style=\"text-align: right;\">\n",
       "      <th></th>\n",
       "      <th>Day_of_trip</th>\n",
       "      <th>Status</th>\n",
       "      <th>Request_hr</th>\n",
       "    </tr>\n",
       "  </thead>\n",
       "  <tbody>\n",
       "    <tr>\n",
       "      <th>0</th>\n",
       "      <td>11</td>\n",
       "      <td>Cancelled</td>\n",
       "      <td>220</td>\n",
       "    </tr>\n",
       "    <tr>\n",
       "      <th>1</th>\n",
       "      <td>11</td>\n",
       "      <td>No Cars Available</td>\n",
       "      <td>166</td>\n",
       "    </tr>\n",
       "    <tr>\n",
       "      <th>2</th>\n",
       "      <td>11</td>\n",
       "      <td>Trip Completed</td>\n",
       "      <td>320</td>\n",
       "    </tr>\n",
       "    <tr>\n",
       "      <th>3</th>\n",
       "      <td>12</td>\n",
       "      <td>Cancelled</td>\n",
       "      <td>195</td>\n",
       "    </tr>\n",
       "    <tr>\n",
       "      <th>4</th>\n",
       "      <td>12</td>\n",
       "      <td>No Cars Available</td>\n",
       "      <td>155</td>\n",
       "    </tr>\n",
       "    <tr>\n",
       "      <th>5</th>\n",
       "      <td>12</td>\n",
       "      <td>Trip Completed</td>\n",
       "      <td>273</td>\n",
       "    </tr>\n",
       "    <tr>\n",
       "      <th>6</th>\n",
       "      <td>13</td>\n",
       "      <td>Cancelled</td>\n",
       "      <td>222</td>\n",
       "    </tr>\n",
       "    <tr>\n",
       "      <th>7</th>\n",
       "      <td>13</td>\n",
       "      <td>No Cars Available</td>\n",
       "      <td>173</td>\n",
       "    </tr>\n",
       "    <tr>\n",
       "      <th>8</th>\n",
       "      <td>13</td>\n",
       "      <td>Trip Completed</td>\n",
       "      <td>279</td>\n",
       "    </tr>\n",
       "    <tr>\n",
       "      <th>9</th>\n",
       "      <td>14</td>\n",
       "      <td>Cancelled</td>\n",
       "      <td>220</td>\n",
       "    </tr>\n",
       "    <tr>\n",
       "      <th>10</th>\n",
       "      <td>14</td>\n",
       "      <td>No Cars Available</td>\n",
       "      <td>193</td>\n",
       "    </tr>\n",
       "    <tr>\n",
       "      <th>11</th>\n",
       "      <td>14</td>\n",
       "      <td>Trip Completed</td>\n",
       "      <td>339</td>\n",
       "    </tr>\n",
       "    <tr>\n",
       "      <th>12</th>\n",
       "      <td>15</td>\n",
       "      <td>Cancelled</td>\n",
       "      <td>209</td>\n",
       "    </tr>\n",
       "    <tr>\n",
       "      <th>13</th>\n",
       "      <td>15</td>\n",
       "      <td>No Cars Available</td>\n",
       "      <td>250</td>\n",
       "    </tr>\n",
       "    <tr>\n",
       "      <th>14</th>\n",
       "      <td>15</td>\n",
       "      <td>Trip Completed</td>\n",
       "      <td>293</td>\n",
       "    </tr>\n",
       "  </tbody>\n",
       "</table>\n",
       "</div>"
      ],
      "text/plain": [
       "    Day_of_trip             Status  Request_hr\n",
       "0            11          Cancelled         220\n",
       "1            11  No Cars Available         166\n",
       "2            11     Trip Completed         320\n",
       "3            12          Cancelled         195\n",
       "4            12  No Cars Available         155\n",
       "5            12     Trip Completed         273\n",
       "6            13          Cancelled         222\n",
       "7            13  No Cars Available         173\n",
       "8            13     Trip Completed         279\n",
       "9            14          Cancelled         220\n",
       "10           14  No Cars Available         193\n",
       "11           14     Trip Completed         339\n",
       "12           15          Cancelled         209\n",
       "13           15  No Cars Available         250\n",
       "14           15     Trip Completed         293"
      ]
     },
     "execution_count": 21,
     "metadata": {},
     "output_type": "execute_result"
    }
   ],
   "source": [
    "#relation between day of trip and count of Status\n",
    "df_city=uber_df[uber_df['Pickup point']=='City']\n",
    "dt4=df_city.groupby(['Day_of_trip','Status'])['Request_hr'].count().reset_index()\n",
    "dt4\n",
    "\n",
    "\n"
   ]
  },
  {
   "cell_type": "code",
   "execution_count": 22,
   "id": "a9c9032a",
   "metadata": {
    "scrolled": false
   },
   "outputs": [
    {
     "data": {
      "image/png": "[encoded data removed]",
      "text/plain": [
       "<Figure size 360x576 with 1 Axes>"
      ]
     },
     "metadata": {
      "needs_background": "light"
     },
     "output_type": "display_data"
    }
   ],
   "source": [
    "#Creating plot for above data\n",
    "plt.figure(figsize=(5,8))\n",
    "sns.barplot(data=dt4,x='Request_hr',y='Day_of_trip',hue='Status',\n",
    "            palette='RdPu',orient='h',width=0.5)\n",
    "plt.title('Day of trip Vs number of requests for status of request (CITY)',fontsize=15)\n",
    "plt.xlabel('Number of requests',labelpad=13,fontsize=13)\n",
    "plt.ylabel('Day of trip',labelpad=13,fontsize=13)\n",
    "plt.grid(True,lw=0.5,color='k')\n",
    "plt.legend(bbox_to_anchor=(1,1))\n",
    "plt.show()"
   ]
  },
  {
   "cell_type": "markdown",
   "id": "f8f17ac6",
   "metadata": {},
   "source": [
    "#### Analysis on the number of requests made in city on the specific days given in data classified on the basis of status of those requests:\n",
    "\n",
    "1. Almost same number of requests are made everyday.\n",
    "2. Cancelled requests are lowest on 12th day of trip and \n",
    "lies in almost the same interval for other days. \n",
    "3. Car unavailability issue seems to be rising in the span \n",
    "of given 5 days"
   ]
  },
  {
   "cell_type": "markdown",
   "id": "59be25b0",
   "metadata": {},
   "source": [
    "#### 4. Number of requests made during the 5 days and staus of the request (for AIRPORT)"
   ]
  },
  {
   "cell_type": "code",
   "execution_count": 23,
   "id": "d71823f9",
   "metadata": {
    "scrolled": false
   },
   "outputs": [
    {
     "data": {
      "text/html": [
       "<div>\n",
       "<style scoped>\n",
       "    .dataframe tbody tr th:only-of-type {\n",
       "        vertical-align: middle;\n",
       "    }\n",
       "\n",
       "    .dataframe tbody tr th {\n",
       "        vertical-align: top;\n",
       "    }\n",
       "\n",
       "    .dataframe thead th {\n",
       "        text-align: right;\n",
       "    }\n",
       "</style>\n",
       "<table border=\"1\" class=\"dataframe\">\n",
       "  <thead>\n",
       "    <tr style=\"text-align: right;\">\n",
       "      <th></th>\n",
       "      <th>Day_of_trip</th>\n",
       "      <th>Status</th>\n",
       "      <th>Request_hr</th>\n",
       "    </tr>\n",
       "  </thead>\n",
       "  <tbody>\n",
       "    <tr>\n",
       "      <th>0</th>\n",
       "      <td>11</td>\n",
       "      <td>Cancelled</td>\n",
       "      <td>42</td>\n",
       "    </tr>\n",
       "    <tr>\n",
       "      <th>1</th>\n",
       "      <td>11</td>\n",
       "      <td>No Cars Available</td>\n",
       "      <td>338</td>\n",
       "    </tr>\n",
       "    <tr>\n",
       "      <th>2</th>\n",
       "      <td>11</td>\n",
       "      <td>Trip Completed</td>\n",
       "      <td>281</td>\n",
       "    </tr>\n",
       "    <tr>\n",
       "      <th>3</th>\n",
       "      <td>12</td>\n",
       "      <td>Cancelled</td>\n",
       "      <td>45</td>\n",
       "    </tr>\n",
       "    <tr>\n",
       "      <th>4</th>\n",
       "      <td>12</td>\n",
       "      <td>No Cars Available</td>\n",
       "      <td>350</td>\n",
       "    </tr>\n",
       "    <tr>\n",
       "      <th>5</th>\n",
       "      <td>12</td>\n",
       "      <td>Trip Completed</td>\n",
       "      <td>289</td>\n",
       "    </tr>\n",
       "    <tr>\n",
       "      <th>6</th>\n",
       "      <td>13</td>\n",
       "      <td>Cancelled</td>\n",
       "      <td>48</td>\n",
       "    </tr>\n",
       "    <tr>\n",
       "      <th>7</th>\n",
       "      <td>13</td>\n",
       "      <td>No Cars Available</td>\n",
       "      <td>317</td>\n",
       "    </tr>\n",
       "    <tr>\n",
       "      <th>8</th>\n",
       "      <td>13</td>\n",
       "      <td>Trip Completed</td>\n",
       "      <td>298</td>\n",
       "    </tr>\n",
       "    <tr>\n",
       "      <th>9</th>\n",
       "      <td>14</td>\n",
       "      <td>Cancelled</td>\n",
       "      <td>32</td>\n",
       "    </tr>\n",
       "    <tr>\n",
       "      <th>10</th>\n",
       "      <td>14</td>\n",
       "      <td>No Cars Available</td>\n",
       "      <td>378</td>\n",
       "    </tr>\n",
       "    <tr>\n",
       "      <th>11</th>\n",
       "      <td>14</td>\n",
       "      <td>Trip Completed</td>\n",
       "      <td>191</td>\n",
       "    </tr>\n",
       "    <tr>\n",
       "      <th>12</th>\n",
       "      <td>15</td>\n",
       "      <td>Cancelled</td>\n",
       "      <td>31</td>\n",
       "    </tr>\n",
       "    <tr>\n",
       "      <th>13</th>\n",
       "      <td>15</td>\n",
       "      <td>No Cars Available</td>\n",
       "      <td>330</td>\n",
       "    </tr>\n",
       "    <tr>\n",
       "      <th>14</th>\n",
       "      <td>15</td>\n",
       "      <td>Trip Completed</td>\n",
       "      <td>268</td>\n",
       "    </tr>\n",
       "  </tbody>\n",
       "</table>\n",
       "</div>"
      ],
      "text/plain": [
       "    Day_of_trip             Status  Request_hr\n",
       "0            11          Cancelled          42\n",
       "1            11  No Cars Available         338\n",
       "2            11     Trip Completed         281\n",
       "3            12          Cancelled          45\n",
       "4            12  No Cars Available         350\n",
       "5            12     Trip Completed         289\n",
       "6            13          Cancelled          48\n",
       "7            13  No Cars Available         317\n",
       "8            13     Trip Completed         298\n",
       "9            14          Cancelled          32\n",
       "10           14  No Cars Available         378\n",
       "11           14     Trip Completed         191\n",
       "12           15          Cancelled          31\n",
       "13           15  No Cars Available         330\n",
       "14           15     Trip Completed         268"
      ]
     },
     "execution_count": 23,
     "metadata": {},
     "output_type": "execute_result"
    }
   ],
   "source": [
    "#relation between day of trip and count of Status (AIRPORT)\n",
    "df_airport=uber_df[uber_df['Pickup point']=='Airport']\n",
    "dt5=df_airport.groupby(['Day_of_trip','Status'])['Request_hr'].count().reset_index()\n",
    "dt5\n"
   ]
  },
  {
   "cell_type": "code",
   "execution_count": 24,
   "id": "504f9f1f",
   "metadata": {},
   "outputs": [
    {
     "data": {
      "image/png": "[encoded data removed]",
      "text/plain": [
       "<Figure size 360x576 with 1 Axes>"
      ]
     },
     "metadata": {
      "needs_background": "light"
     },
     "output_type": "display_data"
    }
   ],
   "source": [
    "#Creating plot for above data\n",
    "plt.figure(figsize=(5,8))\n",
    "sns.barplot(data=dt5,x='Request_hr',y='Day_of_trip',hue='Status',\n",
    "            palette='RdPu',orient='h',width=0.5)\n",
    "plt.title('Day of trip Vs number of requests for status of request (AIRPORT)',fontsize=15)\n",
    "plt.xlabel('Number of requests',labelpad=13,fontsize=13)\n",
    "plt.ylabel('Day of trip',labelpad=13,fontsize=13)\n",
    "plt.grid(True,lw=0.5,color='k')\n",
    "plt.legend(bbox_to_anchor=(1,1))\n",
    "plt.show()\n"
   ]
  },
  {
   "cell_type": "markdown",
   "id": "3e6a99ab",
   "metadata": {},
   "source": [
    "#### Analysis on the number of requests made at airport on the specific days given in data classified on the basis of status of those requests.\n",
    "1. Number of requests are lower on 14th ,15th day\n",
    "2. Cancellation of requests seems to be of not much of \n",
    "an issue in case of airport, everyday below 50 requests \n",
    "are cancelled.\n",
    "3. Car unavailability is significant and peaks on 14th day.\n",
    "4. Total trips completed in 5 days are less than the total \n",
    "requests which are not completed due to unavailability \n",
    "of cars. "
   ]
  },
  {
   "cell_type": "markdown",
   "id": "8b96f7e6",
   "metadata": {},
   "source": [
    "### Proposed Solution:\n",
    "1. As the demand for cab requests are almost same at both pickup points, Uber should hire more number of drivers.\n",
    "2. Uber can put a criteria on the number of cabs available during the sessions.\n",
    "3. Uber can provide special incentives to drivers who completes a specific numbers trips in specific sessions, which \n",
    "could tackle the cab cancellation issue.\n",
    "4. Uber can start new service dedicated to airport rides"
   ]
  },
  {
   "cell_type": "markdown",
   "id": "fe00362b",
   "metadata": {},
   "source": [
    "## -----------------------------------------------------END------------------------------------------------------------"
   ]
  }
 ],
 "metadata": {
  "kernelspec": {
   "display_name": "Python 3 (ipykernel)",
   "language": "python",
   "name": "python3"
  },
  "language_info": {
   "codemirror_mode": {
    "name": "ipython",
    "version": 3
   },
   "file_extension": ".py",
   "mimetype": "text/x-python",
   "name": "python",
   "nbconvert_exporter": "python",
   "pygments_lexer": "ipython3",
   "version": "3.10.4"
  }
 },
 "nbformat": 4,
 "nbformat_minor": 5
}
